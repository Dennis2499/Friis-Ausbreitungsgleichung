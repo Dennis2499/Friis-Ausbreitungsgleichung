{
 "cells": [
  {
   "attachments": {},
   "cell_type": "markdown",
   "metadata": {},
   "source": [
    "# Berechnung frequency to wavelength"
   ]
  },
  {
   "cell_type": "code",
   "execution_count": 18,
   "metadata": {},
   "outputs": [
    {
     "name": "stdout",
     "output_type": "stream",
     "text": [
      "Die Wellenlänge ist: 0.12784868170962665 m\n"
     ]
    }
   ],
   "source": [
    "f = 2.346524e9\n",
    "c = 3e8\n",
    "wavelength = c/f\n",
    "print(f'Die Wellenlänge ist: {wavelength} m')"
   ]
  },
  {
   "attachments": {},
   "cell_type": "markdown",
   "metadata": {},
   "source": [
    "# Umrechnung vom Logarithmischen zum Linearen"
   ]
  },
  {
   "cell_type": "code",
   "execution_count": 19,
   "metadata": {},
   "outputs": [
    {
     "name": "stdout",
     "output_type": "stream",
     "text": [
      "Der Lineare Wert für die Sendeleistung lautet: 2\n",
      "Der Lineare Wert für die Empfangsleistung lautet: 4\n"
     ]
    }
   ],
   "source": [
    "import math\n",
    "\n",
    "G_Sende = 3\n",
    "G_Empfang = 6\n",
    "\n",
    "G_Sende_linear = math.pow(10, G_Sende/10)\n",
    "print(f'Der Lineare Wert für die Sendeleistung lautet: {math.ceil(G_Sende_linear)}')\n",
    "\n",
    "G_Empfang_linear = math.pow(10, G_Empfang/10)\n",
    "print(f'Der Lineare Wert für die Empfangsleistung lautet: {math.ceil(G_Empfang_linear)}')"
   ]
  },
  {
   "attachments": {},
   "cell_type": "markdown",
   "metadata": {},
   "source": [
    "# Berechnung der Friis Formel\n",
    "\n",
    "### $|S_{21}| = \\frac{P_{empf}}{P_{sende}} = \\frac{G_{sende}}{4 \\cdot \\pi \\cdot r^2} \\cdot \\frac{\\lambda^2}{4\\cdot \\pi} \\cdot G_{empf}$"
   ]
  },
  {
   "cell_type": "code",
   "execution_count": 29,
   "metadata": {},
   "outputs": [
    {
     "name": "stdout",
     "output_type": "stream",
     "text": [
      "Die Friis Formel berechnet folgendes Ergebnis: 0.00020554777929220695\n"
     ]
    }
   ],
   "source": [
    "import numpy as np\n",
    "\n",
    "r = 2\n",
    "\n",
    "Friis_linear = (G_Sende_linear / (4 * np.pi * (r**2))) * ((wavelength**2) / (4 * np.pi))\n",
    "Friis_linear *= G_Empfang_linear\n",
    "\n",
    "print(f'Die Friis Formel berechnet folgendes Ergebnis: {Friis_linear}')"
   ]
  },
  {
   "attachments": {},
   "cell_type": "markdown",
   "metadata": {},
   "source": [
    "# Umrechnung von Linear auf Logarithmisch"
   ]
  },
  {
   "cell_type": "code",
   "execution_count": 32,
   "metadata": {},
   "outputs": [
    {
     "name": "stdout",
     "output_type": "stream",
     "text": [
      "Der Logarithmische Wert der Friis Formel lautet: -37 dB\n"
     ]
    }
   ],
   "source": [
    "import numpy as np\n",
    "\n",
    "Friis_logarithmisch = 10*np.log10(Friis_linear)\n",
    "print(f'Der Logarithmische Wert der Friis Formel lautet: {round(Friis_logarithmisch)} dB')\n"
   ]
  },
  {
   "cell_type": "code",
   "execution_count": null,
   "metadata": {},
   "outputs": [],
   "source": []
  },
  {
   "cell_type": "code",
   "execution_count": null,
   "metadata": {},
   "outputs": [],
   "source": []
  }
 ],
 "metadata": {
  "kernelspec": {
   "display_name": "Python 3",
   "language": "python",
   "name": "python3"
  },
  "language_info": {
   "codemirror_mode": {
    "name": "ipython",
    "version": 3
   },
   "file_extension": ".py",
   "mimetype": "text/x-python",
   "name": "python",
   "nbconvert_exporter": "python",
   "pygments_lexer": "ipython3",
   "version": "3.9.6"
  },
  "orig_nbformat": 4
 },
 "nbformat": 4,
 "nbformat_minor": 2
}
